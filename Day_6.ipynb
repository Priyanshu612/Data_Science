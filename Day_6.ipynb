{
  "nbformat": 4,
  "nbformat_minor": 0,
  "metadata": {
    "colab": {
      "provenance": []
    },
    "kernelspec": {
      "name": "python3",
      "display_name": "Python 3"
    },
    "language_info": {
      "name": "python"
    }
  },
  "cells": [
    {
      "cell_type": "code",
      "source": [
        "import google.generativeai as genai\n",
        "from google.colab import userdata\n",
        "\n",
        "GOOGLE_API_KEY = userdata.get('GOOGLE_API_KEY')\n",
        "\n",
        "genai.configure(api_key=GOOGLE_API_KEY)\n",
        "model = genai.GenerativeModel('gemini-1.5-flash')\n",
        "response = model.generate_content(\n",
        "    \"generate one random name\",\n",
        "    generation_config={\n",
        "        \"temperature\": 1,\n",
        "        \"max_output_tokens\": 20,\n",
        "        \"top_p\": 1,\n",
        "    }\n",
        ")\n",
        "\n",
        "print(response.text)"
      ],
      "metadata": {
        "colab": {
          "base_uri": "https://localhost:8080/",
          "height": 52
        },
        "id": "SUymH0iPk2HE",
        "outputId": "18b679d6-2910-46ee-b817-6265b3f3858a"
      },
      "execution_count": null,
      "outputs": [
        {
          "output_type": "stream",
          "name": "stdout",
          "text": [
            "Jamison\n",
            "\n"
          ]
        }
      ]
    },
    {
      "cell_type": "code",
      "source": [
        "!pip install -q -U google-generativeai\n",
        "import google.generativeai as genai\n",
        "from google.colab import userdata\n",
        "GOOGLE_API_KEY = userdata.get('GOOGLE_API_KEY')\n",
        "genai.configure(api_key=GOOGLE_API_KEY)\n",
        "model = genai.GenerativeModel('gemini-1.5-flash')\n",
        "topic = input(\"Enter a podcast topic you'd like to generate: \")\n",
        "\n",
        "prompt = f\"Write a detailed script for a podcast about {topic}.\"\n",
        "\n",
        "response = model.generate_content(\n",
        "    prompt,\n",
        "    generation_config={\n",
        "        \"temperature\": 1,\n",
        "        \"max_output_tokens\": 1024,\n",
        "        \"top_p\": 1,\n",
        "    }\n",
        ")\n",
        "\n",
        "with open(\"podcastscript.txt\", \"w\", encoding=\"utf-8\") as f:\n",
        "    f.write(response.text)\n",
        "\n",
        "print(\"Podcast script saved to podcastscript.txt\")\n"
      ],
      "metadata": {
        "colab": {
          "base_uri": "https://localhost:8080/",
          "height": 52
        },
        "id": "Kv_yTJJidfWk",
        "outputId": "28773deb-0c1c-4561-8c2d-31943d367480"
      },
      "execution_count": null,
      "outputs": [
        {
          "output_type": "stream",
          "name": "stdout",
          "text": [
            "Enter a podcast topic you'd like to generate: data science\n",
            "Podcast script saved to podcastscript.txt\n"
          ]
        }
      ]
    },
    {
      "cell_type": "code",
      "source": [
        "# Install the Gemini library (quietly and with updates)\n",
        "!pip install -q -U google-generativeai\n",
        "\n",
        "# Import the required module\n",
        "import google.generativeai as genai\n",
        "from google.colab import userdata\n",
        "\n",
        "# Retrieve your API key securely\n",
        "GOOGLE_API_KEY = userdata.get('GOOGLE_API_KEY')\n",
        "\n",
        "# Configure the API key\n",
        "genai.configure(api_key=GOOGLE_API_KEY)\n",
        "\n",
        "# Initialize Gemini model\n",
        "model = genai.GenerativeModel('gemini-1.5-flash')\n",
        "\n",
        "# Take podcast topic input from user\n",
        "topic = input(\"Enter a podcast topic you'd like to generate: \").strip()\n",
        "\n",
        "# Ensure topic is not empty\n",
        "if not topic:\n",
        "    print(\"❌ Error: Please enter a valid topic.\")\n",
        "else:\n",
        "    # Prepare the detailed prompt\n",
        "    prompt = f\"\"\"\n",
        "    You are a creative podcast writer.\n",
        "    Write a detailed and engaging script for a podcast episode on the topic: \"{topic}\".\n",
        "    Include:\n",
        "    - A catchy introduction\n",
        "    - Clear segment structure\n",
        "    - Real-world examples or facts\n",
        "    - A conclusion or CTA\n",
        "    Make it conversational and suitable for listeners.\n",
        "    \"\"\"\n",
        "\n",
        "    # Generate the content\n",
        "    response = model.generate_content(\n",
        "        prompt,\n",
        "        generation_config={\n",
        "            \"temperature\": 1,\n",
        "            \"max_output_tokens\": 2048,  # Higher for longer scripts\n",
        "            \"top_p\": 1,\n",
        "        }\n",
        "    )\n",
        "\n",
        "    # Save the output to a file\n",
        "    with open(\"podcastscript.txt\", \"w\", encoding=\"utf-8\") as f:\n",
        "        f.write(response.text)\n",
        "\n",
        "    print(\"✅ Podcast script saved to podcastscript.txt\")\n"
      ],
      "metadata": {
        "colab": {
          "base_uri": "https://localhost:8080/",
          "height": 52
        },
        "id": "AeuwrCyVm2xo",
        "outputId": "2fabfc3c-2695-4997-dc3b-518d7ed80904"
      },
      "execution_count": null,
      "outputs": [
        {
          "output_type": "stream",
          "name": "stdout",
          "text": [
            "Enter a podcast topic you'd like to generate: data science\n",
            "✅ Podcast script saved to podcastscript.txt\n"
          ]
        }
      ]
    },
    {
      "cell_type": "code",
      "source": [
        "# Install Gemini SDK and Google Drive support\n",
        "!pip install -q -U google-generativeai\n",
        "from google.colab import drive\n",
        "import google.generativeai as genai\n",
        "from google.colab import userdata\n",
        "\n",
        "# Mount Google Drive\n",
        "drive.mount('/content/drive')\n",
        "\n",
        "# Get your Gemini API key securely\n",
        "GOOGLE_API_KEY = userdata.get('GOOGLE_API_KEY')\n",
        "\n",
        "# Configure Gemini with the API key\n",
        "genai.configure(api_key=GOOGLE_API_KEY)\n",
        "\n",
        "# Initialize Gemini 1.5 Flash model\n",
        "model = genai.GenerativeModel('gemini-1.5-flash')\n",
        "\n",
        "# Get user input for podcast topic\n",
        "topic = input(\"Enter a podcast topic you'd like to generate: \").strip()\n",
        "\n",
        "if not topic:\n",
        "    print(\"❌ Error: Please enter a valid topic.\")\n",
        "else:\n",
        "    # Craft a strong prompt\n",
        "    prompt = f\"\"\"\n",
        "    You are a creative podcast writer.\n",
        "    Write a detailed and engaging script for a podcast episode on the topic: \"{topic}\".\n",
        "    Include:\n",
        "    - A catchy introduction\n",
        "    - Clear structure and segments\n",
        "    - Examples, facts, or stories\n",
        "    - A conclusion or CTA\n",
        "    Make it sound natural and suitable for audio listeners.\n",
        "    \"\"\"\n",
        "\n",
        "    # Generate content\n",
        "    response = model.generate_content(\n",
        "        prompt,\n",
        "        generation_config={\n",
        "            \"temperature\": 1,\n",
        "            \"max_output_tokens\": 2048,\n",
        "            \"top_p\": 1,\n",
        "        }\n",
        "    )\n",
        "\n",
        "    # Store the script content\n",
        "    script_text = response.text\n",
        "\n",
        "    # Display the script in the notebook\n",
        "    print(\"\\n📜 Generated Podcast Script:\\n\")\n",
        "    print(script_text)\n",
        "\n",
        "    # Save to local file\n",
        "    file_name = \"podcastscript.txt\"\n",
        "    with open(file_name, \"w\", encoding=\"utf-8\") as f:\n",
        "        f.write(script_text)\n",
        "\n",
        "    # Define path in Google Drive\n",
        "    drive_path = \"/content/drive/My Drive/podcastscript.txt\"\n",
        "\n",
        "    # Copy file to Google Drive\n",
        "    import shutil\n",
        "    shutil.copy(file_name, drive_path)\n",
        "\n",
        "    print(f\"\\n✅ Script saved as '{file_name}' and uploaded to Google Drive at:\\n{drive_path}\")\n"
      ],
      "metadata": {
        "colab": {
          "base_uri": "https://localhost:8080/",
          "height": 922
        },
        "id": "le9Cvd1um30H",
        "outputId": "a932b084-6d23-4a1b-aebb-02f1bc883812"
      },
      "execution_count": null,
      "outputs": [
        {
          "output_type": "stream",
          "name": "stdout",
          "text": [
            "Mounted at /content/drive\n",
            "Enter a podcast topic you'd like to generate: flutter\n",
            "\n",
            "📜 Generated Podcast Script:\n",
            "\n",
            "## Flutter By: A Podcast Exploring the World of Flutter\n",
            "\n",
            "**(Intro Music: Upbeat, slightly whimsical, fades after 5 seconds)**\n",
            "\n",
            "**Host:** Hey everyone, and welcome to \"Beyond the Bytes,\" the podcast that dives deep into the fascinating world of technology. Today, we're taking flight – literally and figuratively – with a look at Flutter.  You might have heard the buzz, this seemingly magical framework that’s rapidly transforming the way apps are built.  But what *is* Flutter, exactly? Is it just hype, or is it a game-changer?  Get ready to discover the answer, because we're about to take a deep dive into the wonderful world of Flutter!\n",
            "\n",
            "**(Short musical interlude)**\n",
            "\n",
            "**Segment 1: What is Flutter and Why Should You Care?**\n",
            "\n",
            "**Host:** Flutter, in a nutshell, is Google's open-source UI software development kit. Think of it as a toolbox brimming with pre-built widgets and tools that you can use to create beautiful, natively compiled applications for iOS, Android, web, and even desktop – all from a single codebase. This \"write once, deploy everywhere\" philosophy saves developers countless hours and resources, making app development faster and more efficient.  \n",
            "\n",
            "**Example:** Imagine you're building a food delivery app.  With Flutter, you write the code once, and with a few tweaks here and there, you can release it on the Apple App Store and the Google Play Store simultaneously. No need to build separate versions for each platform.\n",
            "\n",
            "**(Short musical interlude)**\n",
            "\n",
            "**Segment 2:  The Magic Behind the Curtain: Dart and Widgets**\n",
            "\n",
            "**Host:** Now, the magic of Flutter isn't just about ease of use. It lies in its core components: the Dart programming language and its widget-based architecture. Dart is a relatively easy-to-learn language, perfect for both beginners and experienced developers.  And widgets?  Think of them as LEGO blocks for your app.  Everything you see on the screen – buttons, text fields, images – is a widget.  These widgets can be customized and combined in countless ways to create stunning and complex user interfaces.\n",
            "\n",
            "**Fact:**  Flutter’s hot reload feature lets you see changes to your code instantly reflected in your app, drastically speeding up the development process. It’s like having a super-powered magic wand for debugging!\n",
            "\n",
            "**(Short musical interlude)**\n",
            "\n",
            "**Segment 3: Flutter in Action – Real-World Examples and Success Stories**\n",
            "\n",
            "**Host:** Flutter isn't just a theoretical concept; it’s powering real-world apps used by millions.  From the popular Google Assistant app to Alibaba’s e-commerce platform, Flutter's versatility is evident.  These aren't small, niche applications; these are massive, high-traffic applications relying on Flutter's performance and scalability. \n",
            "\n",
            "**Story:** We recently spoke to a developer who used Flutter to build a mobile app for a local bakery.  They told us that the ease of use and cross-platform compatibility saved them months of development time and thousands of dollars in costs.  This is a real-world testament to Flutter’s practical benefits.\n",
            "\n",
            "\n",
            "**(Short musical interlude)**\n",
            "\n",
            "**Segment 4:  The Future of Flutter and Getting Started**\n",
            "\n",
            "**Host:**  Flutter is constantly evolving, with new features and updates being regularly released. Google's continued investment in the framework ensures its longevity and viability in the ever-changing landscape of app development.\n",
            "\n",
            "**Call to Action:** If you're a developer, or even someone interested in learning more about app development, I highly recommend checking out Flutter.  Their official website offers comprehensive documentation and resources for getting started.  You can also find a vibrant community of developers ready to help you on your Flutter journey.  Search for \"Flutter\" on Google, and you are just a few clicks away from transforming your app development ideas into reality!\n",
            "\n",
            "**(Outro Music: Upbeat, slightly whimsical, fades in and out)**\n",
            "\n",
            "**Host:** Thanks for joining us on \"Beyond the Bytes.\"  We’ll be back next week with another exciting tech-focused episode. Until then, keep exploring, keep learning, and keep innovating!\n",
            "\n",
            "\n",
            "✅ Script saved as 'podcastscript.txt' and uploaded to Google Drive at:\n",
            "/content/drive/My Drive/podcastscript.txt\n"
          ]
        }
      ]
    }
  ]
}