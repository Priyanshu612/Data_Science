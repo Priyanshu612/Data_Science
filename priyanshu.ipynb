{
  "nbformat": 4,
  "nbformat_minor": 0,
  "metadata": {
    "colab": {
      "provenance": []
    },
    "kernelspec": {
      "name": "python3",
      "display_name": "Python 3"
    },
    "language_info": {
      "name": "python"
    }
  },
  "cells": [
    {
      "cell_type": "code",
      "source": [
        "def load_html():\n",
        "  with open(\"/social_media.html\",\"r\",encoding=\"utf-8\")as f:\n",
        "    content = f.read()\n",
        "    print(content)\n",
        "load_html()"
      ],
      "metadata": {
        "colab": {
          "base_uri": "https://localhost:8080/"
        },
        "id": "mRprpYZZYDjJ",
        "outputId": "acd57251-35ed-4ddd-df30-fcafbce81752"
      },
      "execution_count": 20,
      "outputs": [
        {
          "output_type": "stream",
          "name": "stdout",
          "text": [
            "<!DOCTYPE html>\n",
            "<html lang=\"en\">\n",
            "<head>\n",
            "    <title>Social Media Feed</title>\n",
            "</head>\n",
            "<body>\n",
            "    <div class=\"post\" id=\"post-1\">\n",
            "        <h2 class=\"username\">User1</h2>\n",
            "        <p class=\"content\">This is the first post content!</p>\n",
            "        <span class=\"timestamp\">2025-01-14 10:00:00</span>\n",
            "    </div>\n",
            "    <div class=\"post\" id=\"post-2\">\n",
            "        <h2 class=\"username\">User2</h2>\n",
            "        <p class=\"content\">This is another interesting post!</p>\n",
            "        <span class=\"timestamp\">2025-01-14 10:05:00</span>\n",
            "    </div>\n",
            "</body>\n",
            "</html>\n",
            "\n"
          ]
        }
      ]
    },
    {
      "cell_type": "code",
      "execution_count": 17,
      "metadata": {
        "id": "wKKyiCBA6qBo",
        "colab": {
          "base_uri": "https://localhost:8080/"
        },
        "outputId": "cf4f5007-9ad4-4a05-f3fd-c5bf5cce579e"
      },
      "outputs": [
        {
          "output_type": "stream",
          "name": "stdout",
          "text": [
            "<!DOCTYPE html>\n",
            "\n",
            "<html lang=\"en\">\n",
            "<head>\n",
            "<title>Social Media Feed</title>\n",
            "</head>\n",
            "<body>\n",
            "<div class=\"post\" id=\"post-1\">\n",
            "<h2 class=\"username\">User1</h2>\n",
            "<p class=\"content\">This is the first post content!</p>\n",
            "<span class=\"timestamp\">2025-01-14 10:00:00</span>\n",
            "</div>\n",
            "<div class=\"post\" id=\"post-2\">\n",
            "<h2 class=\"username\">User2</h2>\n",
            "<p class=\"content\">This is another interesting post!</p>\n",
            "<span class=\"timestamp\">2025-01-14 10:05:00</span>\n",
            "</div>\n",
            "</body>\n",
            "</html>\n",
            "\n"
          ]
        }
      ],
      "source": [
        "from bs4 import BeautifulSoup\n",
        "def load_html(filename):\n",
        "  with open(filename,\"r\",encoding=\"utf-8\")as f:\n",
        "    content = f.read()\n",
        "    return content\n",
        "\n",
        "html_content = load_html(\"/social_media.html\")\n",
        "soup = BeautifulSoup(html_content,features=\"html.parser\")\n",
        "print(soup)\n"
      ]
    },
    {
      "cell_type": "code",
      "source": [
        "from bs4 import BeautifulSoup\n",
        "def load_html(filename):\n",
        "  with open(filename,\"r\",encoding=\"utf-8\")as f:\n",
        "    content = f.read()\n",
        "    return content\n",
        "def extract_posts(soup):\n",
        "  post_elements = soup.find_all(\"div\",class_=\"post\")\n",
        "  for post in post_elements:\n",
        "    print(post)\n",
        "\n",
        "html_content = load_html(\"/social_media.html\")\n",
        "soup = BeautifulSoup(html_content,features=\"html.parser\")\n",
        "extract_posts(soup)"
      ],
      "metadata": {
        "colab": {
          "base_uri": "https://localhost:8080/"
        },
        "id": "jON89EhgXhxI",
        "outputId": "99f1e5d4-a531-4eff-b254-41ba8d38ffc7"
      },
      "execution_count": 18,
      "outputs": [
        {
          "output_type": "stream",
          "name": "stdout",
          "text": [
            "<div class=\"post\" id=\"post-1\">\n",
            "<h2 class=\"username\">User1</h2>\n",
            "<p class=\"content\">This is the first post content!</p>\n",
            "<span class=\"timestamp\">2025-01-14 10:00:00</span>\n",
            "</div>\n",
            "<div class=\"post\" id=\"post-2\">\n",
            "<h2 class=\"username\">User2</h2>\n",
            "<p class=\"content\">This is another interesting post!</p>\n",
            "<span class=\"timestamp\">2025-01-14 10:05:00</span>\n",
            "</div>\n"
          ]
        }
      ]
    },
    {
      "cell_type": "code",
      "source": [
        "from bs4 import BeautifulSoup\n",
        "\n",
        "def load_html(filename):\n",
        "  with open(filename,\"r\",encoding=\"utf-8\")as f:\n",
        "    content = f.read()\n",
        "    return content\n",
        "\n",
        "def extract_posts(soup):\n",
        "  posts = []\n",
        "  post_elements = soup.find_all(\"div\",class_=\"post\")\n",
        "\n",
        "  for post in post_elements:\n",
        "    username = post.find(name=\"h2\",class_=\"username\").text\n",
        "    content = post.find(name=\"p\",class_=\"content\").text\n",
        "    timestamp = post.find(name=\"span\",class_=\"timestamp\").text\n",
        "\n",
        "    posts.append({\"username\":username,\"content\":content,\"timestamp\":timestamp})\n",
        "  return posts\n",
        "\n",
        "html_content = load_html(\"/social_media.html\")\n",
        "soup = BeautifulSoup(html_content,features=\"html.parser\")\n",
        "posts = extract_posts(soup)\n",
        "print(posts)"
      ],
      "metadata": {
        "colab": {
          "base_uri": "https://localhost:8080/"
        },
        "id": "SJVGrXqKZAc4",
        "outputId": "6513965a-2e45-46e7-a67d-4ba5dacea50d"
      },
      "execution_count": 24,
      "outputs": [
        {
          "output_type": "stream",
          "name": "stdout",
          "text": [
            "[{'username': 'User1', 'content': 'This is the first post content!', 'timestamp': '2025-01-14 10:00:00'}, {'username': 'User2', 'content': 'This is another interesting post!', 'timestamp': '2025-01-14 10:05:00'}]\n"
          ]
        }
      ]
    },
    {
      "cell_type": "code",
      "source": [
        "from bs4 import BeautifulSoup\n",
        "\n",
        "def load_html(filename):\n",
        "    with open(filename, \"r\", encoding=\"utf-8\") as f:\n",
        "        return f.read()\n",
        "\n",
        "def extract_people(soup):\n",
        "    people = []\n",
        "    person_elements = soup.find_all(\"div\", id=lambda x: x and x.startswith(\"person\"))\n",
        "\n",
        "    for person in person_elements:\n",
        "        name = person.find(\"h1\").text.replace(\"Name: \", \"\")\n",
        "        city = person.find(\"h2\").text.replace(\"City: \", \"\")\n",
        "        company = person.find(\"h3\").text.replace(\"Company: \", \"\")\n",
        "        designation = person.find(\"p\").text.replace(\"Designation: \", \"\")\n",
        "\n",
        "        people.append({\n",
        "            \"name\": name,\n",
        "            \"city\": city,\n",
        "            \"company\": company,\n",
        "            \"designation\": designation\n",
        "        })\n",
        "\n",
        "    return people\n",
        "\n",
        "html_content = load_html(\"/priyanshu.html\")\n",
        "soup = BeautifulSoup(html_content, \"html.parser\")\n",
        "people = extract_people(soup)\n",
        "\n",
        "for person in people:\n",
        "    print(f\"Name: {person['name']}\")\n",
        "    print(f\"City: {person['city']}\")\n",
        "    print(f\"Company: {person['company']}\")\n",
        "    print(f\"Designation: {person['designation']}\")\n",
        "    print(\"------------------------------------------\")\n"
      ],
      "metadata": {
        "colab": {
          "base_uri": "https://localhost:8080/"
        },
        "id": "3IMBA196jF5t",
        "outputId": "c242249f-8852-4ae1-c415-455046670be7"
      },
      "execution_count": 31,
      "outputs": [
        {
          "output_type": "stream",
          "name": "stdout",
          "text": [
            "Name: Arjun\n",
            "City: Bangalore\n",
            "Company: AlphaTech\n",
            "Designation: Project Lead\n",
            "------------------------------------------\n",
            "Name: Meera\n",
            "City: Hyderabad\n",
            "Company: SoftNova\n",
            "Designation: UI/UX Designer\n",
            "------------------------------------------\n",
            "Name: Vikram\n",
            "City: Chennai\n",
            "Company: CodeSphere\n",
            "Designation: Data Scientist\n",
            "------------------------------------------\n"
          ]
        }
      ]
    }
  ]
}